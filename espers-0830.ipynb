{
 "cells": [
  {
   "cell_type": "markdown",
   "source": [
    "# Formatting(포맷팅)"
   ],
   "metadata": {}
  },
  {
   "cell_type": "code",
   "execution_count": null,
   "source": [
    "'''\r\n",
    "int main(){\r\n",
    "    printf(\"%d\", 314);\r\n",
    "}\r\n",
    "'''"
   ],
   "outputs": [],
   "metadata": {}
  },
  {
   "cell_type": "markdown",
   "source": [
    "# Quiz. 1\r\n",
    "## 변수를 활용하여 날짜 형식대로 출력해보기!"
   ],
   "metadata": {}
  },
  {
   "cell_type": "code",
   "execution_count": 6,
   "source": [
    "yy = 2021\r\n",
    "mm = 8\r\n",
    "dd = 30\r\n",
    "# 2021-08-30\r\n",
    "print(yy,'-',mm,'-',dd,sep='',end='\\n')\r\n",
    "print(str(yy)+'-'+str(mm)+'-'+str(dd))\r\n"
   ],
   "outputs": [
    {
     "output_type": "stream",
     "name": "stdout",
     "text": [
      "2021-8-30\n",
      "2021-8-30\n"
     ]
    }
   ],
   "metadata": {}
  },
  {
   "cell_type": "markdown",
   "source": [
    "# C Style 출력 포맷팅"
   ],
   "metadata": {}
  },
  {
   "cell_type": "code",
   "execution_count": 18,
   "source": [
    "print(yy,'-',mm,'-',dd,sep='',end='\\n')\r\n",
    "print(str(yy)+'-'+str(mm)+'-'+str(dd))\r\n",
    "\r\n",
    "print('%d-%d-%d'%(yy,mm,dd))\r\n",
    "print('{0}-{1}-{2}'.format(yy,mm,dd))\r\n",
    "print(f'{yy}-{mm}-{dd}')"
   ],
   "outputs": [
    {
     "output_type": "stream",
     "name": "stdout",
     "text": [
      "2021-8-3\n",
      "2021-8-3\n",
      "2021-8-3\n"
     ]
    }
   ],
   "metadata": {}
  },
  {
   "cell_type": "code",
   "execution_count": 42,
   "source": [
    "a = 3.14*0.1\r\n",
    "b = 3\r\n",
    "c = \"hello\"\r\n",
    "print(f'{a:0.3}, {b:f}, {c:9}')\r\n",
    "print(f'{c:>10}_{c:^11}_{c:<10}')"
   ],
   "outputs": [
    {
     "output_type": "stream",
     "name": "stdout",
     "text": [
      "0.314, 3.000000, hello    \n",
      "     hello_   hello   _hello     \n"
     ]
    }
   ],
   "metadata": {}
  },
  {
   "cell_type": "markdown",
   "source": [
    "# 리스트 $\\approx$ array"
   ],
   "metadata": {}
  },
  {
   "cell_type": "code",
   "execution_count": 46,
   "source": [
    "리스트 = [1,2,3,4,5, 3.14, \"abc\", [1,2]]\r\n",
    "print(리스트)\r\n",
    "리스트.append('abc')\r\n",
    "print(리스트)"
   ],
   "outputs": [
    {
     "output_type": "stream",
     "name": "stdout",
     "text": [
      "[1, 2, 3, 4, 5, 3.14, 'abc', [1, 2]]\n",
      "[1, 2, 3, 4, 5, 3.14, 'abc', [1, 2], 'abc']\n"
     ]
    }
   ],
   "metadata": {}
  },
  {
   "cell_type": "code",
   "execution_count": 58,
   "source": [
    "#         0 1 2 3 4\r\n",
    "리스트 = [1,2,3,4,5,6,7]\r\n",
    "print(리스트[3])\r\n",
    "print()\r\n",
    "print(f'리스트의 길이는 {len(리스트)}')\r\n",
    "for i in range(len(리스트)):\r\n",
    "    print(리스트[i])\r\n",
    "print()"
   ],
   "outputs": [
    {
     "output_type": "stream",
     "name": "stdout",
     "text": [
      "4\n",
      "\n",
      "리스트의 길이는 7\n",
      "1\n",
      "2\n",
      "3\n",
      "4\n",
      "5\n",
      "6\n",
      "7\n",
      "\n"
     ]
    }
   ],
   "metadata": {}
  },
  {
   "cell_type": "code",
   "execution_count": null,
   "source": [
    "'''\r\n",
    "int main(){\r\n",
    "    for(int i = 0; i < 5; i++){\r\n",
    "        printf(\"%d\", i);\r\n",
    "        i += 1;\r\n",
    "    }\r\n",
    "}\r\n",
    "'''"
   ],
   "outputs": [],
   "metadata": {}
  },
  {
   "cell_type": "code",
   "execution_count": 53,
   "source": [
    "for i in range(5):\r\n",
    "    print(i)\r\n",
    "    i += 1"
   ],
   "outputs": [
    {
     "output_type": "stream",
     "name": "stdout",
     "text": [
      "0\n",
      "1\n",
      "2\n",
      "3\n",
      "4\n"
     ]
    }
   ],
   "metadata": {}
  },
  {
   "cell_type": "markdown",
   "source": [
    "# for문에는 반복가능한 자료형이 올 수 있다.\r\n",
    "## 반복가능한 자료형\r\n",
    "- 문자열\r\n",
    "- 튜플\r\n",
    "- 리스트\r\n",
    "- range\r\n",
    "등등"
   ],
   "metadata": {}
  },
  {
   "cell_type": "code",
   "execution_count": 54,
   "source": [
    "리스트 = [1,2,3,4,5]\r\n",
    "for i in 리스트:\r\n",
    "    print(i)"
   ],
   "outputs": [
    {
     "output_type": "stream",
     "name": "stdout",
     "text": [
      "1\n",
      "2\n",
      "3\n",
      "4\n",
      "5\n"
     ]
    }
   ],
   "metadata": {}
  },
  {
   "cell_type": "code",
   "execution_count": 55,
   "source": [
    "리스트 = ['a', 'g', 'e']\r\n",
    "for i in 리스트:\r\n",
    "    print(i)"
   ],
   "outputs": [
    {
     "output_type": "stream",
     "name": "stdout",
     "text": [
      "a\n",
      "g\n",
      "e\n"
     ]
    }
   ],
   "metadata": {}
  },
  {
   "cell_type": "code",
   "execution_count": 59,
   "source": [
    "s = \"Hello World!\"\r\n",
    "for c in s:\r\n",
    "    print(c)"
   ],
   "outputs": [
    {
     "output_type": "stream",
     "name": "stdout",
     "text": [
      "H\n",
      "e\n",
      "l\n",
      "l\n",
      "o\n",
      " \n",
      "W\n",
      "o\n",
      "r\n",
      "l\n",
      "d\n",
      "!\n"
     ]
    }
   ],
   "metadata": {}
  },
  {
   "cell_type": "code",
   "execution_count": 73,
   "source": [
    "리스트 = []\r\n",
    "리스트 = list()\r\n",
    "print(type(리스트))\r\n",
    "for i in range(1,101):\r\n",
    "    if i % 2 == 0:\r\n",
    "        리스트.append(i)\r\n",
    "리스트[0] = 78\r\n",
    "리스트.sort()\r\n",
    "print(리스트)"
   ],
   "outputs": [
    {
     "output_type": "stream",
     "name": "stdout",
     "text": [
      "<class 'list'>\n",
      "[4, 6, 8, 10, 12, 14, 16, 18, 20, 22, 24, 26, 28, 30, 32, 34, 36, 38, 40, 42, 44, 46, 48, 50, 52, 54, 56, 58, 60, 62, 64, 66, 68, 70, 72, 74, 76, 78, 78, 80, 82, 84, 86, 88, 90, 92, 94, 96, 98, 100]\n"
     ]
    }
   ],
   "metadata": {}
  },
  {
   "cell_type": "markdown",
   "source": [
    "# 튜플\r\n",
    "## 튜플은 변경이 불가능하다."
   ],
   "metadata": {}
  },
  {
   "cell_type": "code",
   "execution_count": 70,
   "source": [
    "튜플 = (1,2,3,4,5)\r\n",
    "#튜플[0] = -78 # 변경불가!\r\n",
    "print(튜플)"
   ],
   "outputs": [
    {
     "output_type": "stream",
     "name": "stdout",
     "text": [
      "(1, 2, 3, 4, 5)\n"
     ]
    }
   ],
   "metadata": {}
  }
 ],
 "metadata": {
  "orig_nbformat": 4,
  "language_info": {
   "name": "python",
   "version": "3.8.5",
   "mimetype": "text/x-python",
   "codemirror_mode": {
    "name": "ipython",
    "version": 3
   },
   "pygments_lexer": "ipython3",
   "nbconvert_exporter": "python",
   "file_extension": ".py"
  },
  "kernelspec": {
   "name": "python3",
   "display_name": "Python 3.8.5 64-bit ('base': conda)"
  },
  "interpreter": {
   "hash": "1abb990717e111a1cb4b2cfd216d6d2f3f921beb4dbf3c1128c93e0dc8f1d789"
  }
 },
 "nbformat": 4,
 "nbformat_minor": 2
}